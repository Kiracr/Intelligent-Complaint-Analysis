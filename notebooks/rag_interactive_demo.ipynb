{
 "cells": [
  {
   "cell_type": "markdown",
   "id": "8bff8316",
   "metadata": {},
   "source": [
    "# Interactive RAG Demo\n",
    "This notebook lets you ask your own questions about customer complaints using the RAG pipeline."
   ]
  },
  {
   "cell_type": "code",
   "execution_count": 1,
   "id": "ad943a17",
   "metadata": {},
   "outputs": [
    {
     "name": "stderr",
     "output_type": "stream",
     "text": [
      "c:\\Users\\tesfa\\Desktop\\Kiffiya AI\\Intelligent-Complaint-Analysis\\venv\\lib\\site-packages\\tqdm\\auto.py:21: TqdmWarning: IProgress not found. Please update jupyter and ipywidgets. See https://ipywidgets.readthedocs.io/en/stable/user_install.html\n",
      "  from .autonotebook import tqdm as notebook_tqdm\n"
     ]
    }
   ],
   "source": [
    "# Import the RAG pipeline logic from the src folder\n",
    "# This allows us to use the rag_answer function for interactive Q&A\n",
    "import sys\n",
    "sys.path.append('../src')\n",
    "from rag_pipeline import rag_answer"
   ]
  },
  {
   "cell_type": "code",
   "execution_count": null,
   "id": "e9ae3d23",
   "metadata": {},
   "outputs": [],
   "source": [
    "# Ask your own question and display the answer and sources\n",
    "# This cell will prompt you for a question, run the RAG pipeline, and print the results\n",
    "question = input('Enter your question about customer complaints: ')\n",
    "result = rag_answer(question)\n",
    "print('---')\n",
    "print('Question:', result['question'])\n",
    "print('Answer:', result['answer'])\n",
    "print('Retrieved Sources:')\n",
    "for doc, meta in result['retrieved_sources']:\n",
    "    print(f\"- [{meta.get('product', '')}] {doc}\")"
   ]
  }
 ],
 "metadata": {
  "kernelspec": {
   "display_name": "venv",
   "language": "python",
   "name": "python3"
  },
  "language_info": {
   "codemirror_mode": {
    "name": "ipython",
    "version": 3
   },
   "file_extension": ".py",
   "mimetype": "text/x-python",
   "name": "python",
   "nbconvert_exporter": "python",
   "pygments_lexer": "ipython3",
   "version": "3.10.11"
  }
 },
 "nbformat": 4,
 "nbformat_minor": 5
}
